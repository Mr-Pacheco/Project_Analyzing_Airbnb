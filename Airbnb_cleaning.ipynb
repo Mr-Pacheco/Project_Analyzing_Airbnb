{
  "nbformat": 4,
  "nbformat_minor": 0,
  "metadata": {
    "colab": {
      "name": "Airbnb_cleaning.ipynb",
      "provenance": [],
      "toc_visible": true,
      "mount_file_id": "1WCDzcwYtcH9BHSIsEHhzddDftwJZQhTr",
      "authorship_tag": "ABX9TyMg2JELx6WsO5GOayep5hcD",
      "include_colab_link": true
    },
    "kernelspec": {
      "name": "python3",
      "display_name": "Python 3"
    }
  },
  "cells": [
    {
      "cell_type": "markdown",
      "metadata": {
        "id": "view-in-github",
        "colab_type": "text"
      },
      "source": [
        "<a href=\"https://colab.research.google.com/github/Mr-Pacheco/Project---Analyzing-Airbnb-data/blob/main/Airbnb_cleaning.ipynb\" target=\"_parent\"><img src=\"https://colab.research.google.com/assets/colab-badge.svg\" alt=\"Open In Colab\"/></a>"
      ]
    },
    {
      "cell_type": "markdown",
      "metadata": {
        "id": "xKclVE2OUE75"
      },
      "source": [
        "<center><img alt=\"Analisando Airbnb\" width=\"20%\" src=\"https://www.area360.com.au/wp-content/uploads/2017/09/airbnb-logo.jpg\"></center>\r\n",
        "\r\n",
        "## Análise dos Dados do Airbnb - Montreal, Canada - **PART 1**\r\n",
        "\r\n",
        "* The [Airbnb](https://www.airbnb.com.br/) **began in 2008** when two designers who had space to share hosted three travelers looking for a place to stay. \r\n",
        "\r\n",
        "\r\n",
        "* Years after that, **millions of hosts and travelers** create a free Airbnb account so they can list their space and book unique accommodations **anywhere in the world**. And Airbnb experience hosts share their passions and interests with both travelers and locals.\r\n",
        "\r\n",
        "\r\n",
        "* Airbnb is considered the **biggest hotel company in the world** and the company doesn't have any hotel. \r\n",
        "\r\n",
        "\r\n",
        "* Actually, **Airbnb is an online marketplace** that connects people who want to rent out their homes with people who are looking for accommodations in that locale. It currently covers **more than 100,000 cities and 220 countries worldwide**. The company’s name comes from “air mattress B&B.\r\n",
        "\r\n",
        "\r\n"
      ]
    },
    {
      "cell_type": "code",
      "metadata": {
        "id": "ugUo-t1gTVfp"
      },
      "source": [
        "# import the necessary packages\r\n",
        "import pandas as pd\r\n",
        "import matplotlib.pyplot as plt\r\n",
        "import seaborn as sns\r\n",
        "\r\n",
        "%matplotlib inline"
      ],
      "execution_count": null,
      "outputs": []
    },
    {
      "cell_type": "markdown",
      "metadata": {
        "id": "ecW7Zgxwdn_V"
      },
      "source": [
        "## Getting the data\r\n",
        "\r\n",
        "All data used here was obtained from the  website [Airbnb](http://insideairbnb.com/get-the-data.html).\r\n",
        "\r\n",
        "For this initial exploratory analysis, only the following file will be downloaded:\r\n",
        "\r\n",
        "* `listings.csv` - * Summary information and metrics for listings in Montreal (good for visualizations). *"
      ]
    },
    {
      "cell_type": "code",
      "metadata": {
        "id": "hkT6g34KTx3e"
      },
      "source": [
        "# importar o arquivo listings.csv para um DataFrame\r\n",
        "df = pd.read_csv('http://data.insideairbnb.com/canada/qc/montreal/2020-12-18/visualisations/listings.csv')"
      ],
      "execution_count": null,
      "outputs": []
    },
    {
      "cell_type": "markdown",
      "metadata": {
        "id": "apPV5Swec1Ff"
      },
      "source": [
        "## DataSet - overview\r\n",
        "\r\n",
        " * First, We will start by an overview. We will look at all the data to see if everything is ok and understand what is happing in this archive."
      ]
    },
    {
      "cell_type": "code",
      "metadata": {
        "colab": {
          "base_uri": "https://localhost:8080/",
          "height": 316
        },
        "id": "WeMTUad9T6E-",
        "outputId": "7de80de9-6c44-42cd-df00-fded1c2703a8"
      },
      "source": [
        "# Starting to analyze the data\r\n",
        "df = df.rename(columns={'neighbourhood': 'neighborhood'})\r\n",
        "df.head()"
      ],
      "execution_count": null,
      "outputs": [
        {
          "output_type": "execute_result",
          "data": {
            "text/html": [
              "<div>\n",
              "<style scoped>\n",
              "    .dataframe tbody tr th:only-of-type {\n",
              "        vertical-align: middle;\n",
              "    }\n",
              "\n",
              "    .dataframe tbody tr th {\n",
              "        vertical-align: top;\n",
              "    }\n",
              "\n",
              "    .dataframe thead th {\n",
              "        text-align: right;\n",
              "    }\n",
              "</style>\n",
              "<table border=\"1\" class=\"dataframe\">\n",
              "  <thead>\n",
              "    <tr style=\"text-align: right;\">\n",
              "      <th></th>\n",
              "      <th>id</th>\n",
              "      <th>name</th>\n",
              "      <th>host_id</th>\n",
              "      <th>host_name</th>\n",
              "      <th>neighbourhood_group</th>\n",
              "      <th>neighborhood</th>\n",
              "      <th>latitude</th>\n",
              "      <th>longitude</th>\n",
              "      <th>room_type</th>\n",
              "      <th>price</th>\n",
              "      <th>minimum_nights</th>\n",
              "      <th>number_of_reviews</th>\n",
              "      <th>last_review</th>\n",
              "      <th>reviews_per_month</th>\n",
              "      <th>calculated_host_listings_count</th>\n",
              "      <th>availability_365</th>\n",
              "    </tr>\n",
              "  </thead>\n",
              "  <tbody>\n",
              "    <tr>\n",
              "      <th>0</th>\n",
              "      <td>2078</td>\n",
              "      <td>Central comfy close to Metro Laurie</td>\n",
              "      <td>2277</td>\n",
              "      <td>Nelia</td>\n",
              "      <td>NaN</td>\n",
              "      <td>Le Plateau-Mont-Royal</td>\n",
              "      <td>45.53069</td>\n",
              "      <td>-73.58588</td>\n",
              "      <td>Private room</td>\n",
              "      <td>38</td>\n",
              "      <td>2</td>\n",
              "      <td>245</td>\n",
              "      <td>2018-09-23</td>\n",
              "      <td>2.16</td>\n",
              "      <td>1</td>\n",
              "      <td>0</td>\n",
              "    </tr>\n",
              "    <tr>\n",
              "      <th>1</th>\n",
              "      <td>29059</td>\n",
              "      <td>Lovely studio Quartier Latin</td>\n",
              "      <td>125031</td>\n",
              "      <td>Maryline</td>\n",
              "      <td>NaN</td>\n",
              "      <td>Ville-Marie</td>\n",
              "      <td>45.51939</td>\n",
              "      <td>-73.56482</td>\n",
              "      <td>Entire home/apt</td>\n",
              "      <td>169</td>\n",
              "      <td>2</td>\n",
              "      <td>330</td>\n",
              "      <td>2020-10-27</td>\n",
              "      <td>2.58</td>\n",
              "      <td>2</td>\n",
              "      <td>350</td>\n",
              "    </tr>\n",
              "    <tr>\n",
              "      <th>2</th>\n",
              "      <td>29061</td>\n",
              "      <td>Maison historique - Quartier Latin</td>\n",
              "      <td>125031</td>\n",
              "      <td>Maryline</td>\n",
              "      <td>NaN</td>\n",
              "      <td>Ville-Marie</td>\n",
              "      <td>45.51929</td>\n",
              "      <td>-73.56493</td>\n",
              "      <td>Entire home/apt</td>\n",
              "      <td>248</td>\n",
              "      <td>3</td>\n",
              "      <td>69</td>\n",
              "      <td>2020-11-01</td>\n",
              "      <td>0.64</td>\n",
              "      <td>2</td>\n",
              "      <td>348</td>\n",
              "    </tr>\n",
              "    <tr>\n",
              "      <th>3</th>\n",
              "      <td>31847</td>\n",
              "      <td>Downtown/Airport room</td>\n",
              "      <td>2319</td>\n",
              "      <td>Gail</td>\n",
              "      <td>NaN</td>\n",
              "      <td>Le Sud-Ouest</td>\n",
              "      <td>45.48467</td>\n",
              "      <td>-73.57995</td>\n",
              "      <td>Private room</td>\n",
              "      <td>40</td>\n",
              "      <td>2</td>\n",
              "      <td>153</td>\n",
              "      <td>2020-01-07</td>\n",
              "      <td>1.19</td>\n",
              "      <td>5</td>\n",
              "      <td>0</td>\n",
              "    </tr>\n",
              "    <tr>\n",
              "      <th>4</th>\n",
              "      <td>34715</td>\n",
              "      <td>Chez Patrac ! Métro Beaubien</td>\n",
              "      <td>149769</td>\n",
              "      <td>Alain</td>\n",
              "      <td>NaN</td>\n",
              "      <td>Rosemont-La Petite-Patrie</td>\n",
              "      <td>45.53840</td>\n",
              "      <td>-73.60355</td>\n",
              "      <td>Entire home/apt</td>\n",
              "      <td>135</td>\n",
              "      <td>4</td>\n",
              "      <td>4</td>\n",
              "      <td>2011-09-12</td>\n",
              "      <td>0.03</td>\n",
              "      <td>1</td>\n",
              "      <td>358</td>\n",
              "    </tr>\n",
              "  </tbody>\n",
              "</table>\n",
              "</div>"
            ],
            "text/plain": [
              "      id  ... availability_365\n",
              "0   2078  ...                0\n",
              "1  29059  ...              350\n",
              "2  29061  ...              348\n",
              "3  31847  ...                0\n",
              "4  34715  ...              358\n",
              "\n",
              "[5 rows x 16 columns]"
            ]
          },
          "metadata": {
            "tags": []
          },
          "execution_count": 3
        }
      ]
    },
    {
      "cell_type": "markdown",
      "metadata": {
        "id": "3qO4bHgYeCOy"
      },
      "source": [
        "## Q1. Variables and  entries of our data set. Mathematical overview\r\n",
        "\r\n",
        "Let's go ahead and identify the number of entries that our dataset has and see the types of each column.\r\n",
        "\r\n",
        "This * dataset * we downloaded is the \"short\" version of Airbnb. \r\n",
        "\r\n"
      ]
    },
    {
      "cell_type": "code",
      "metadata": {
        "colab": {
          "base_uri": "https://localhost:8080/",
          "height": 353
        },
        "id": "dh9oW4ImT7h1",
        "outputId": "34f92b0e-6a0f-41cf-c3f1-928fe92d3114"
      },
      "source": [
        "# identificar o volume de dados do DataFrame\r\n",
        "print(\"Entries:\\t {}\".format(df.shape[0]))\r\n",
        "print(\"Variables:\\t {}\\n\".format(df.shape[1]))\r\n",
        "\r\n",
        "# verificar as 5 primeiras entradas do dataset\r\n",
        "display(df.dtypes)"
      ],
      "execution_count": null,
      "outputs": [
        {
          "output_type": "stream",
          "text": [
            "Entries:\t 13767\n",
            "Variables:\t 16\n",
            "\n"
          ],
          "name": "stdout"
        },
        {
          "output_type": "display_data",
          "data": {
            "text/plain": [
              "id                                  int64\n",
              "name                               object\n",
              "host_id                             int64\n",
              "host_name                          object\n",
              "neighbourhood_group               float64\n",
              "neighborhood                       object\n",
              "latitude                          float64\n",
              "longitude                         float64\n",
              "room_type                          object\n",
              "price                               int64\n",
              "minimum_nights                      int64\n",
              "number_of_reviews                   int64\n",
              "last_review                        object\n",
              "reviews_per_month                 float64\n",
              "calculated_host_listings_count      int64\n",
              "availability_365                    int64\n",
              "dtype: object"
            ]
          },
          "metadata": {
            "tags": []
          }
        }
      ]
    },
    {
      "cell_type": "markdown",
      "metadata": {
        "id": "tgtq3usTe1ID"
      },
      "source": [
        "### **Dictionary of the variables**\r\n",
        "\r\n",
        "* id - id number generated to identify the property\r\n",
        "* name - name of the advertised property\r\n",
        "* host_id - id number of the owner (host) of the property\r\n",
        "* host_name - Host name\r\n",
        "* neighborhood_group - this column does not contain any valid values\r\n",
        "* neighborhood - neighborhood name\r\n",
        "* latitude - coordinate of the property's latitude\r\n",
        "* longitude - coordinate of the property's longitude\r\n",
        "* Tipo_cala - informs the type of room that is offered\r\n",
        "* price - price to rent the property\r\n",
        "* minimum_nights - minimum number of nights to book\r\n",
        "* number_of_reviews - number of reviews a property has\r\n",
        "* last_review - data from the last revision\r\n",
        "* reviews_per_month - number of comments per month\r\n",
        "* calculado_host_listings_count - number of properties from the same host\r\n",
        "* availability_365 - number of availability days within 365 days"
      ]
    },
    {
      "cell_type": "markdown",
      "metadata": {
        "id": "Vq_rk__0C5kS"
      },
      "source": [
        "## Q2. Analyzing the distribuiton of the variables\r\n",
        "\r\n",
        "To identify the distribuiton of the variables, I will plot the histogram."
      ]
    },
    {
      "cell_type": "code",
      "metadata": {
        "colab": {
          "base_uri": "https://localhost:8080/",
          "height": 607
        },
        "id": "BNaG9CDOCekH",
        "outputId": "3156cdd5-a38a-44a4-f060-99c6432ee295"
      },
      "source": [
        "# plotar o histograma das variáveis numéricas\r\n",
        "df.hist(bins=15, figsize=(15,10));"
      ],
      "execution_count": null,
      "outputs": [
        {
          "output_type": "display_data",
          "data": {
            "image/png": "[encoded data removed]",
            "text/plain": [
              "<Figure size 1080x720 with 12 Axes>"
            ]
          },
          "metadata": {
            "tags": [],
            "needs_background": "light"
          }
        }
      ]
    },
    {
      "cell_type": "markdown",
      "metadata": {
        "id": "1FwWpXxPfeYj"
      },
      "source": [
        "**df.describe()**\r\n",
        "* This part is very important for the analysis, this method show us all the the data from a mathematical point of view.\r\n",
        "* This method is very important I recommend look at it with calm."
      ]
    },
    {
      "cell_type": "code",
      "metadata": {
        "colab": {
          "base_uri": "https://localhost:8080/",
          "height": 477
        },
        "id": "anUL3GLhb264",
        "outputId": "55b0c6ae-927f-46c5-9eae-23e1a9e65995"
      },
      "source": [
        "df.describe(include = 'all')"
      ],
      "execution_count": null,
      "outputs": [
        {
          "output_type": "execute_result",
          "data": {
            "text/html": [
              "<div>\n",
              "<style scoped>\n",
              "    .dataframe tbody tr th:only-of-type {\n",
              "        vertical-align: middle;\n",
              "    }\n",
              "\n",
              "    .dataframe tbody tr th {\n",
              "        vertical-align: top;\n",
              "    }\n",
              "\n",
              "    .dataframe thead th {\n",
              "        text-align: right;\n",
              "    }\n",
              "</style>\n",
              "<table border=\"1\" class=\"dataframe\">\n",
              "  <thead>\n",
              "    <tr style=\"text-align: right;\">\n",
              "      <th></th>\n",
              "      <th>id</th>\n",
              "      <th>name</th>\n",
              "      <th>host_id</th>\n",
              "      <th>host_name</th>\n",
              "      <th>neighbourhood_group</th>\n",
              "      <th>neighborhood</th>\n",
              "      <th>latitude</th>\n",
              "      <th>longitude</th>\n",
              "      <th>room_type</th>\n",
              "      <th>price</th>\n",
              "      <th>minimum_nights</th>\n",
              "      <th>number_of_reviews</th>\n",
              "      <th>last_review</th>\n",
              "      <th>reviews_per_month</th>\n",
              "      <th>calculated_host_listings_count</th>\n",
              "      <th>availability_365</th>\n",
              "    </tr>\n",
              "  </thead>\n",
              "  <tbody>\n",
              "    <tr>\n",
              "      <th>count</th>\n",
              "      <td>1.376700e+04</td>\n",
              "      <td>13759</td>\n",
              "      <td>1.376700e+04</td>\n",
              "      <td>13764</td>\n",
              "      <td>0.0</td>\n",
              "      <td>13767</td>\n",
              "      <td>13767.000000</td>\n",
              "      <td>13767.000000</td>\n",
              "      <td>13767</td>\n",
              "      <td>13767.000000</td>\n",
              "      <td>13767.000000</td>\n",
              "      <td>13767.000000</td>\n",
              "      <td>10525</td>\n",
              "      <td>10525.000000</td>\n",
              "      <td>13767.000000</td>\n",
              "      <td>13767.000000</td>\n",
              "    </tr>\n",
              "    <tr>\n",
              "      <th>unique</th>\n",
              "      <td>NaN</td>\n",
              "      <td>13373</td>\n",
              "      <td>NaN</td>\n",
              "      <td>4009</td>\n",
              "      <td>NaN</td>\n",
              "      <td>33</td>\n",
              "      <td>NaN</td>\n",
              "      <td>NaN</td>\n",
              "      <td>4</td>\n",
              "      <td>NaN</td>\n",
              "      <td>NaN</td>\n",
              "      <td>NaN</td>\n",
              "      <td>1453</td>\n",
              "      <td>NaN</td>\n",
              "      <td>NaN</td>\n",
              "      <td>NaN</td>\n",
              "    </tr>\n",
              "    <tr>\n",
              "      <th>top</th>\n",
              "      <td>NaN</td>\n",
              "      <td>Downtown Montreal Fully furnished apartment WIFI</td>\n",
              "      <td>NaN</td>\n",
              "      <td>Corporate Stays</td>\n",
              "      <td>NaN</td>\n",
              "      <td>Ville-Marie</td>\n",
              "      <td>NaN</td>\n",
              "      <td>NaN</td>\n",
              "      <td>Entire home/apt</td>\n",
              "      <td>NaN</td>\n",
              "      <td>NaN</td>\n",
              "      <td>NaN</td>\n",
              "      <td>2020-09-07</td>\n",
              "      <td>NaN</td>\n",
              "      <td>NaN</td>\n",
              "      <td>NaN</td>\n",
              "    </tr>\n",
              "    <tr>\n",
              "      <th>freq</th>\n",
              "      <td>NaN</td>\n",
              "      <td>67</td>\n",
              "      <td>NaN</td>\n",
              "      <td>110</td>\n",
              "      <td>NaN</td>\n",
              "      <td>3866</td>\n",
              "      <td>NaN</td>\n",
              "      <td>NaN</td>\n",
              "      <td>9820</td>\n",
              "      <td>NaN</td>\n",
              "      <td>NaN</td>\n",
              "      <td>NaN</td>\n",
              "      <td>115</td>\n",
              "      <td>NaN</td>\n",
              "      <td>NaN</td>\n",
              "      <td>NaN</td>\n",
              "    </tr>\n",
              "    <tr>\n",
              "      <th>mean</th>\n",
              "      <td>2.762193e+07</td>\n",
              "      <td>NaN</td>\n",
              "      <td>1.044827e+08</td>\n",
              "      <td>NaN</td>\n",
              "      <td>NaN</td>\n",
              "      <td>NaN</td>\n",
              "      <td>45.515380</td>\n",
              "      <td>-73.588955</td>\n",
              "      <td>NaN</td>\n",
              "      <td>118.505339</td>\n",
              "      <td>14.112298</td>\n",
              "      <td>20.986562</td>\n",
              "      <td>NaN</td>\n",
              "      <td>0.891945</td>\n",
              "      <td>7.091668</td>\n",
              "      <td>130.273698</td>\n",
              "    </tr>\n",
              "    <tr>\n",
              "      <th>std</th>\n",
              "      <td>1.310793e+07</td>\n",
              "      <td>NaN</td>\n",
              "      <td>1.055869e+08</td>\n",
              "      <td>NaN</td>\n",
              "      <td>NaN</td>\n",
              "      <td>NaN</td>\n",
              "      <td>0.031601</td>\n",
              "      <td>0.042689</td>\n",
              "      <td>NaN</td>\n",
              "      <td>288.931405</td>\n",
              "      <td>107.392973</td>\n",
              "      <td>45.494290</td>\n",
              "      <td>NaN</td>\n",
              "      <td>1.247030</td>\n",
              "      <td>15.805663</td>\n",
              "      <td>142.181803</td>\n",
              "    </tr>\n",
              "    <tr>\n",
              "      <th>min</th>\n",
              "      <td>2.078000e+03</td>\n",
              "      <td>NaN</td>\n",
              "      <td>1.671000e+03</td>\n",
              "      <td>NaN</td>\n",
              "      <td>NaN</td>\n",
              "      <td>NaN</td>\n",
              "      <td>45.404050</td>\n",
              "      <td>-73.964510</td>\n",
              "      <td>NaN</td>\n",
              "      <td>0.000000</td>\n",
              "      <td>1.000000</td>\n",
              "      <td>0.000000</td>\n",
              "      <td>NaN</td>\n",
              "      <td>0.010000</td>\n",
              "      <td>1.000000</td>\n",
              "      <td>0.000000</td>\n",
              "    </tr>\n",
              "    <tr>\n",
              "      <th>25%</th>\n",
              "      <td>1.821716e+07</td>\n",
              "      <td>NaN</td>\n",
              "      <td>1.704665e+07</td>\n",
              "      <td>NaN</td>\n",
              "      <td>NaN</td>\n",
              "      <td>NaN</td>\n",
              "      <td>45.496475</td>\n",
              "      <td>-73.602580</td>\n",
              "      <td>NaN</td>\n",
              "      <td>49.000000</td>\n",
              "      <td>1.000000</td>\n",
              "      <td>1.000000</td>\n",
              "      <td>NaN</td>\n",
              "      <td>0.130000</td>\n",
              "      <td>1.000000</td>\n",
              "      <td>0.000000</td>\n",
              "    </tr>\n",
              "    <tr>\n",
              "      <th>50%</th>\n",
              "      <td>2.758284e+07</td>\n",
              "      <td>NaN</td>\n",
              "      <td>6.483284e+07</td>\n",
              "      <td>NaN</td>\n",
              "      <td>NaN</td>\n",
              "      <td>NaN</td>\n",
              "      <td>45.517860</td>\n",
              "      <td>-73.579110</td>\n",
              "      <td>NaN</td>\n",
              "      <td>78.000000</td>\n",
              "      <td>2.000000</td>\n",
              "      <td>4.000000</td>\n",
              "      <td>NaN</td>\n",
              "      <td>0.380000</td>\n",
              "      <td>1.000000</td>\n",
              "      <td>85.000000</td>\n",
              "    </tr>\n",
              "    <tr>\n",
              "      <th>75%</th>\n",
              "      <td>3.957361e+07</td>\n",
              "      <td>NaN</td>\n",
              "      <td>1.705688e+08</td>\n",
              "      <td>NaN</td>\n",
              "      <td>NaN</td>\n",
              "      <td>NaN</td>\n",
              "      <td>45.533340</td>\n",
              "      <td>-73.565970</td>\n",
              "      <td>NaN</td>\n",
              "      <td>120.000000</td>\n",
              "      <td>8.500000</td>\n",
              "      <td>19.000000</td>\n",
              "      <td>NaN</td>\n",
              "      <td>1.120000</td>\n",
              "      <td>4.000000</td>\n",
              "      <td>269.000000</td>\n",
              "    </tr>\n",
              "    <tr>\n",
              "      <th>max</th>\n",
              "      <td>4.711247e+07</td>\n",
              "      <td>NaN</td>\n",
              "      <td>3.805796e+08</td>\n",
              "      <td>NaN</td>\n",
              "      <td>NaN</td>\n",
              "      <td>NaN</td>\n",
              "      <td>45.698850</td>\n",
              "      <td>-73.479630</td>\n",
              "      <td>NaN</td>\n",
              "      <td>13294.000000</td>\n",
              "      <td>11684.000000</td>\n",
              "      <td>638.000000</td>\n",
              "      <td>NaN</td>\n",
              "      <td>15.330000</td>\n",
              "      <td>110.000000</td>\n",
              "      <td>365.000000</td>\n",
              "    </tr>\n",
              "  </tbody>\n",
              "</table>\n",
              "</div>"
            ],
            "text/plain": [
              "                  id  ... availability_365\n",
              "count   1.376700e+04  ...     13767.000000\n",
              "unique           NaN  ...              NaN\n",
              "top              NaN  ...              NaN\n",
              "freq             NaN  ...              NaN\n",
              "mean    2.762193e+07  ...       130.273698\n",
              "std     1.310793e+07  ...       142.181803\n",
              "min     2.078000e+03  ...         0.000000\n",
              "25%     1.821716e+07  ...         0.000000\n",
              "50%     2.758284e+07  ...        85.000000\n",
              "75%     3.957361e+07  ...       269.000000\n",
              "max     4.711247e+07  ...       365.000000\n",
              "\n",
              "[11 rows x 16 columns]"
            ]
          },
          "metadata": {
            "tags": []
          },
          "execution_count": 6
        }
      ]
    },
    {
      "cell_type": "markdown",
      "metadata": {
        "id": "B0GyARIrgYUn"
      },
      "source": [
        "### **Observations**\r\n",
        "* There is a column 'neighbourhood_group' have no information.\r\n",
        "* In the column 'price' may have an error, the maximum value is too high and the minimum number is too low.\r\n",
        "* In the column 'minimum_nights', the maximum number is too high.\r\n",
        "* There are 33 neighbourhood and the top neighbourhood show up 3866 times, which is approximately 30%, the difference is huge, but it's normal. Probably we will work with the larger neighbourhoods, because it will improve our analysis.\r\n"
      ]
    },
    {
      "cell_type": "code",
      "metadata": {
        "colab": {
          "base_uri": "https://localhost:8080/"
        },
        "id": "jWeVOTLsEYoD",
        "outputId": "e6940bdf-5f89-42d0-e9d3-ae95afe86cf3"
      },
      "source": [
        "# Due to the column 'neighbourhood_group' doesn't have numbers, I will delete this column\r\n",
        "# First change in the DataFrame, due to that I create a copy and changed the name\r\n",
        "df1 = df.copy()\r\n",
        "del df1['neighbourhood_group']\r\n",
        "df1.columns"
      ],
      "execution_count": null,
      "outputs": [
        {
          "output_type": "execute_result",
          "data": {
            "text/plain": [
              "Index(['id', 'name', 'host_id', 'host_name', 'neighborhood', 'latitude',\n",
              "       'longitude', 'room_type', 'price', 'minimum_nights',\n",
              "       'number_of_reviews', 'last_review', 'reviews_per_month',\n",
              "       'calculated_host_listings_count', 'availability_365'],\n",
              "      dtype='object')"
            ]
          },
          "metadata": {
            "tags": []
          },
          "execution_count": 7
        }
      ]
    },
    {
      "cell_type": "markdown",
      "metadata": {
        "id": "PUroL_kUU_9k"
      },
      "source": [
        "#### **Analyzing the column 'minimum_nights'**"
      ]
    },
    {
      "cell_type": "code",
      "metadata": {
        "colab": {
          "base_uri": "https://localhost:8080/",
          "height": 518
        },
        "id": "CEZjM6pqFzPH",
        "outputId": "6f75d0c0-8018-4a28-e9e3-7c1ad8d7974d"
      },
      "source": [
        "outlier_nights30 = df1[df1['minimum_nights'] > 30]\r\n",
        "outlier_nights60 = df1[df1['minimum_nights'] > 60]\r\n",
        "outlier_nights90 = df1[df1['minimum_nights'] > 90]\r\n",
        "outlier_nights180 = df1[df1['minimum_nights'] > 180]\r\n",
        "df1['minimum_nights'].plot.box()\r\n",
        "print('Number of outliers greater than 30 days(percentage) : {}'.format(outlier_nights30.shape[0]/df.shape[0]*100))\r\n",
        "print('Number of outliers greater than 60 days(percentage) : {}'.format(outlier_nights60.shape[0]/df.shape[0]*100))\r\n",
        "print('Number of outliers greater than 90 days(percentage) : {}'.format(outlier_nights90.shape[0]/df.shape[0]*100))\r\n",
        "print('Number of outliers greater than 180 days(percentage) : {}'.format(outlier_nights180.shape[0]/df.shape[0]*100))\r\n",
        "print('\\t')\r\n",
        "print(df['minimum_nights'].describe())\r\n",
        "print('\\t')"
      ],
      "execution_count": null,
      "outputs": [
        {
          "output_type": "stream",
          "text": [
            "Number of outliers greater than 30 days(percentage) : 12.297523062395584\n",
            "Number of outliers greater than 60 days(percentage) : 3.0289823490956636\n",
            "Number of outliers greater than 90 days(percentage) : 1.757826687005157\n",
            "Number of outliers greater than 180 days(percentage) : 0.6755284375680977\n",
            "\t\n",
            "count    13767.000000\n",
            "mean        14.112298\n",
            "std        107.392973\n",
            "min          1.000000\n",
            "25%          1.000000\n",
            "50%          2.000000\n",
            "75%          8.500000\n",
            "max      11684.000000\n",
            "Name: minimum_nights, dtype: float64\n",
            "\t\n"
          ],
          "name": "stdout"
        },
        {
          "output_type": "display_data",
          "data": {
            "image/png": "[encoded data removed]",
            "text/plain": [
              "<Figure size 432x288 with 1 Axes>"
            ]
          },
          "metadata": {
            "tags": [],
            "needs_background": "light"
          }
        }
      ]
    },
    {
      "cell_type": "markdown",
      "metadata": {
        "id": "hxy2z0G-IuCW"
      },
      "source": [
        "**Observations**\r\n",
        "* Minimum_nights that are greater than 90 days represent just 1.75% of the data. \r\n",
        "* Due to that, we will work with the minimum_nights that are less than 90 days.Doing this, we will improve our analysis and minimize the standard deviation.\r\n"
      ]
    },
    {
      "cell_type": "code",
      "metadata": {
        "colab": {
          "base_uri": "https://localhost:8080/",
          "height": 284
        },
        "id": "dDTfujxnJ2Y5",
        "outputId": "6117c711-6a6c-441d-be9e-c799b7574199"
      },
      "source": [
        "# Changing the DataFrame againg\r\n",
        "# Second change\r\n",
        "df2 = df1.copy()\r\n",
        "df2 = df2[df2['minimum_nights'] <= 90]\r\n",
        "df2.describe()"
      ],
      "execution_count": null,
      "outputs": [
        {
          "output_type": "execute_result",
          "data": {
            "text/html": [
              "<div>\n",
              "<style scoped>\n",
              "    .dataframe tbody tr th:only-of-type {\n",
              "        vertical-align: middle;\n",
              "    }\n",
              "\n",
              "    .dataframe tbody tr th {\n",
              "        vertical-align: top;\n",
              "    }\n",
              "\n",
              "    .dataframe thead th {\n",
              "        text-align: right;\n",
              "    }\n",
              "</style>\n",
              "<table border=\"1\" class=\"dataframe\">\n",
              "  <thead>\n",
              "    <tr style=\"text-align: right;\">\n",
              "      <th></th>\n",
              "      <th>id</th>\n",
              "      <th>host_id</th>\n",
              "      <th>latitude</th>\n",
              "      <th>longitude</th>\n",
              "      <th>price</th>\n",
              "      <th>minimum_nights</th>\n",
              "      <th>number_of_reviews</th>\n",
              "      <th>reviews_per_month</th>\n",
              "      <th>calculated_host_listings_count</th>\n",
              "      <th>availability_365</th>\n",
              "    </tr>\n",
              "  </thead>\n",
              "  <tbody>\n",
              "    <tr>\n",
              "      <th>count</th>\n",
              "      <td>1.352500e+04</td>\n",
              "      <td>1.352500e+04</td>\n",
              "      <td>13525.000000</td>\n",
              "      <td>13525.000000</td>\n",
              "      <td>13525.000000</td>\n",
              "      <td>13525.000000</td>\n",
              "      <td>13525.000000</td>\n",
              "      <td>10405.000000</td>\n",
              "      <td>13525.000000</td>\n",
              "      <td>13525.000000</td>\n",
              "    </tr>\n",
              "    <tr>\n",
              "      <th>mean</th>\n",
              "      <td>2.774033e+07</td>\n",
              "      <td>1.053353e+08</td>\n",
              "      <td>45.515508</td>\n",
              "      <td>-73.589009</td>\n",
              "      <td>117.227357</td>\n",
              "      <td>9.198817</td>\n",
              "      <td>21.181738</td>\n",
              "      <td>0.897807</td>\n",
              "      <td>7.094935</td>\n",
              "      <td>128.408355</td>\n",
              "    </tr>\n",
              "    <tr>\n",
              "      <th>std</th>\n",
              "      <td>1.303778e+07</td>\n",
              "      <td>1.058392e+08</td>\n",
              "      <td>0.031598</td>\n",
              "      <td>0.042779</td>\n",
              "      <td>262.709470</td>\n",
              "      <td>14.622987</td>\n",
              "      <td>45.697852</td>\n",
              "      <td>1.250887</td>\n",
              "      <td>15.846746</td>\n",
              "      <td>141.393816</td>\n",
              "    </tr>\n",
              "    <tr>\n",
              "      <th>min</th>\n",
              "      <td>2.078000e+03</td>\n",
              "      <td>1.671000e+03</td>\n",
              "      <td>45.404050</td>\n",
              "      <td>-73.964510</td>\n",
              "      <td>0.000000</td>\n",
              "      <td>1.000000</td>\n",
              "      <td>0.000000</td>\n",
              "      <td>0.010000</td>\n",
              "      <td>1.000000</td>\n",
              "      <td>0.000000</td>\n",
              "    </tr>\n",
              "    <tr>\n",
              "      <th>25%</th>\n",
              "      <td>1.830737e+07</td>\n",
              "      <td>1.728986e+07</td>\n",
              "      <td>45.496590</td>\n",
              "      <td>-73.602610</td>\n",
              "      <td>49.000000</td>\n",
              "      <td>1.000000</td>\n",
              "      <td>1.000000</td>\n",
              "      <td>0.130000</td>\n",
              "      <td>1.000000</td>\n",
              "      <td>0.000000</td>\n",
              "    </tr>\n",
              "    <tr>\n",
              "      <th>50%</th>\n",
              "      <td>2.768176e+07</td>\n",
              "      <td>6.605581e+07</td>\n",
              "      <td>45.518040</td>\n",
              "      <td>-73.579110</td>\n",
              "      <td>78.000000</td>\n",
              "      <td>2.000000</td>\n",
              "      <td>4.000000</td>\n",
              "      <td>0.380000</td>\n",
              "      <td>1.000000</td>\n",
              "      <td>83.000000</td>\n",
              "    </tr>\n",
              "    <tr>\n",
              "      <th>75%</th>\n",
              "      <td>3.963519e+07</td>\n",
              "      <td>1.729237e+08</td>\n",
              "      <td>45.533390</td>\n",
              "      <td>-73.565980</td>\n",
              "      <td>120.000000</td>\n",
              "      <td>7.000000</td>\n",
              "      <td>19.000000</td>\n",
              "      <td>1.130000</td>\n",
              "      <td>4.000000</td>\n",
              "      <td>264.000000</td>\n",
              "    </tr>\n",
              "    <tr>\n",
              "      <th>max</th>\n",
              "      <td>4.711247e+07</td>\n",
              "      <td>3.805796e+08</td>\n",
              "      <td>45.698850</td>\n",
              "      <td>-73.479630</td>\n",
              "      <td>13000.000000</td>\n",
              "      <td>90.000000</td>\n",
              "      <td>638.000000</td>\n",
              "      <td>15.330000</td>\n",
              "      <td>110.000000</td>\n",
              "      <td>365.000000</td>\n",
              "    </tr>\n",
              "  </tbody>\n",
              "</table>\n",
              "</div>"
            ],
            "text/plain": [
              "                 id  ...  availability_365\n",
              "count  1.352500e+04  ...      13525.000000\n",
              "mean   2.774033e+07  ...        128.408355\n",
              "std    1.303778e+07  ...        141.393816\n",
              "min    2.078000e+03  ...          0.000000\n",
              "25%    1.830737e+07  ...          0.000000\n",
              "50%    2.768176e+07  ...         83.000000\n",
              "75%    3.963519e+07  ...        264.000000\n",
              "max    4.711247e+07  ...        365.000000\n",
              "\n",
              "[8 rows x 10 columns]"
            ]
          },
          "metadata": {
            "tags": []
          },
          "execution_count": 9
        }
      ]
    },
    {
      "cell_type": "markdown",
      "metadata": {
        "id": "HcYh1ByMVNiY"
      },
      "source": [
        "####**Analazying the column 'price'**"
      ]
    },
    {
      "cell_type": "code",
      "metadata": {
        "colab": {
          "base_uri": "https://localhost:8080/",
          "height": 550
        },
        "id": "x_HCwz1rDSIZ",
        "outputId": "015fd5cd-add9-4d6b-ada0-7a2fcdd40c23"
      },
      "source": [
        "# Looking for outliers\r\n",
        "outlier_price1 = df2[df2['price'] > 200]\r\n",
        "outlier_price2 = df2[df2['price'] > 500]\r\n",
        "outlier_price3= df2[df2['price'] > 750]\r\n",
        "outlier_price4 = df2[df2['price'] > 1000]\r\n",
        "\r\n",
        "# Standard deviation\r\n",
        "print('Standard deviation : {} (All the price greater than the mean(78) + std are outliers)'.format(df2['price'].std()))\r\n",
        "print('\\t')\r\n",
        "df2['price'].plot.box()\r\n",
        "\r\n",
        "# Percentage of the outliers in the DataFrame\r\n",
        "print('Percentage of outliers greater than $200 : {}'.format(outlier_price1.shape[0]/df1.shape[0]*100))\r\n",
        "print('Percentage of outliers greater than $500 : {}'.format(outlier_price2.shape[0]/df1.shape[0]*100))\r\n",
        "print('Percentage of outliers greater than $750 : {}'.format(outlier_price3.shape[0]/df1.shape[0]*100))\r\n",
        "print('Percentage of outliers greater than $1000 : {}'.format(outlier_price4.shape[0]/df1.shape[0]*100))\r\n",
        "print('\\t')\r\n",
        "print(df2['price'].describe())\r\n",
        "print('\\t')"
      ],
      "execution_count": null,
      "outputs": [
        {
          "output_type": "stream",
          "text": [
            "Standard deviation : 262.7094704966895 (All the price greater than the mean(78) + std are outliers)\n",
            "\t\n",
            "Percentage of outliers greater than $200 : 8.556693542529237\n",
            "Percentage of outliers greater than $500 : 1.8232004067698118\n",
            "Percentage of outliers greater than $750 : 1.1476719692017143\n",
            "Percentage of outliers greater than $1000 : 0.7045834241301664\n",
            "\t\n",
            "count    13525.000000\n",
            "mean       117.227357\n",
            "std        262.709470\n",
            "min          0.000000\n",
            "25%         49.000000\n",
            "50%         78.000000\n",
            "75%        120.000000\n",
            "max      13000.000000\n",
            "Name: price, dtype: float64\n",
            "\t\n"
          ],
          "name": "stdout"
        },
        {
          "output_type": "display_data",
          "data": {
            "image/png": "[encoded data removed]",
            "text/plain": [
              "<Figure size 432x288 with 1 Axes>"
            ]
          },
          "metadata": {
            "tags": [],
            "needs_background": "light"
          }
        }
      ]
    },
    {
      "cell_type": "markdown",
      "metadata": {
        "id": "B1tdbT88NF8q"
      },
      "source": [
        "**Observations**\r\n",
        "* The percetange of price that are greater than $500 is 1.82% of the data df2 and all of that are outliers.\r\n",
        "* We will work without these outliers to improve our analysis."
      ]
    },
    {
      "cell_type": "code",
      "metadata": {
        "colab": {
          "base_uri": "https://localhost:8080/",
          "height": 284
        },
        "id": "hQvpGdfILx3p",
        "outputId": "727239c2-2a4e-4421-cb8a-74786d9a8b6e"
      },
      "source": [
        "# Change number 3\r\n",
        "df3 = df2.copy()\r\n",
        "df3 = df3[df3['price'] <= 500]\r\n",
        "df3.reset_index\r\n",
        "df3.describe()"
      ],
      "execution_count": null,
      "outputs": [
        {
          "output_type": "execute_result",
          "data": {
            "text/html": [
              "<div>\n",
              "<style scoped>\n",
              "    .dataframe tbody tr th:only-of-type {\n",
              "        vertical-align: middle;\n",
              "    }\n",
              "\n",
              "    .dataframe tbody tr th {\n",
              "        vertical-align: top;\n",
              "    }\n",
              "\n",
              "    .dataframe thead th {\n",
              "        text-align: right;\n",
              "    }\n",
              "</style>\n",
              "<table border=\"1\" class=\"dataframe\">\n",
              "  <thead>\n",
              "    <tr style=\"text-align: right;\">\n",
              "      <th></th>\n",
              "      <th>id</th>\n",
              "      <th>host_id</th>\n",
              "      <th>latitude</th>\n",
              "      <th>longitude</th>\n",
              "      <th>price</th>\n",
              "      <th>minimum_nights</th>\n",
              "      <th>number_of_reviews</th>\n",
              "      <th>reviews_per_month</th>\n",
              "      <th>calculated_host_listings_count</th>\n",
              "      <th>availability_365</th>\n",
              "    </tr>\n",
              "  </thead>\n",
              "  <tbody>\n",
              "    <tr>\n",
              "      <th>count</th>\n",
              "      <td>1.327400e+04</td>\n",
              "      <td>1.327400e+04</td>\n",
              "      <td>13274.000000</td>\n",
              "      <td>13274.000000</td>\n",
              "      <td>13274.000000</td>\n",
              "      <td>13274.000000</td>\n",
              "      <td>13274.000000</td>\n",
              "      <td>10248.000000</td>\n",
              "      <td>13274.000000</td>\n",
              "      <td>13274.000000</td>\n",
              "    </tr>\n",
              "    <tr>\n",
              "      <th>mean</th>\n",
              "      <td>2.776280e+07</td>\n",
              "      <td>1.053006e+08</td>\n",
              "      <td>45.515644</td>\n",
              "      <td>-73.588990</td>\n",
              "      <td>95.153835</td>\n",
              "      <td>9.232937</td>\n",
              "      <td>21.226006</td>\n",
              "      <td>0.898331</td>\n",
              "      <td>7.091080</td>\n",
              "      <td>127.064110</td>\n",
              "    </tr>\n",
              "    <tr>\n",
              "      <th>std</th>\n",
              "      <td>1.303660e+07</td>\n",
              "      <td>1.057855e+08</td>\n",
              "      <td>0.031660</td>\n",
              "      <td>0.042427</td>\n",
              "      <td>72.940665</td>\n",
              "      <td>14.577274</td>\n",
              "      <td>45.933957</td>\n",
              "      <td>1.255688</td>\n",
              "      <td>15.918743</td>\n",
              "      <td>140.832502</td>\n",
              "    </tr>\n",
              "    <tr>\n",
              "      <th>min</th>\n",
              "      <td>2.078000e+03</td>\n",
              "      <td>1.671000e+03</td>\n",
              "      <td>45.404050</td>\n",
              "      <td>-73.964510</td>\n",
              "      <td>0.000000</td>\n",
              "      <td>1.000000</td>\n",
              "      <td>0.000000</td>\n",
              "      <td>0.010000</td>\n",
              "      <td>1.000000</td>\n",
              "      <td>0.000000</td>\n",
              "    </tr>\n",
              "    <tr>\n",
              "      <th>25%</th>\n",
              "      <td>1.837391e+07</td>\n",
              "      <td>1.719874e+07</td>\n",
              "      <td>45.496590</td>\n",
              "      <td>-73.602910</td>\n",
              "      <td>48.000000</td>\n",
              "      <td>1.000000</td>\n",
              "      <td>1.000000</td>\n",
              "      <td>0.130000</td>\n",
              "      <td>1.000000</td>\n",
              "      <td>0.000000</td>\n",
              "    </tr>\n",
              "    <tr>\n",
              "      <th>50%</th>\n",
              "      <td>2.770227e+07</td>\n",
              "      <td>6.608552e+07</td>\n",
              "      <td>45.518200</td>\n",
              "      <td>-73.579195</td>\n",
              "      <td>76.000000</td>\n",
              "      <td>2.000000</td>\n",
              "      <td>4.000000</td>\n",
              "      <td>0.380000</td>\n",
              "      <td>1.000000</td>\n",
              "      <td>80.000000</td>\n",
              "    </tr>\n",
              "    <tr>\n",
              "      <th>75%</th>\n",
              "      <td>3.965703e+07</td>\n",
              "      <td>1.721007e+08</td>\n",
              "      <td>45.533590</td>\n",
              "      <td>-73.566020</td>\n",
              "      <td>117.000000</td>\n",
              "      <td>7.000000</td>\n",
              "      <td>19.000000</td>\n",
              "      <td>1.130000</td>\n",
              "      <td>4.000000</td>\n",
              "      <td>261.000000</td>\n",
              "    </tr>\n",
              "    <tr>\n",
              "      <th>max</th>\n",
              "      <td>4.711247e+07</td>\n",
              "      <td>3.805796e+08</td>\n",
              "      <td>45.698850</td>\n",
              "      <td>-73.479630</td>\n",
              "      <td>500.000000</td>\n",
              "      <td>90.000000</td>\n",
              "      <td>638.000000</td>\n",
              "      <td>15.330000</td>\n",
              "      <td>110.000000</td>\n",
              "      <td>365.000000</td>\n",
              "    </tr>\n",
              "  </tbody>\n",
              "</table>\n",
              "</div>"
            ],
            "text/plain": [
              "                 id  ...  availability_365\n",
              "count  1.327400e+04  ...      13274.000000\n",
              "mean   2.776280e+07  ...        127.064110\n",
              "std    1.303660e+07  ...        140.832502\n",
              "min    2.078000e+03  ...          0.000000\n",
              "25%    1.837391e+07  ...          0.000000\n",
              "50%    2.770227e+07  ...         80.000000\n",
              "75%    3.965703e+07  ...        261.000000\n",
              "max    4.711247e+07  ...        365.000000\n",
              "\n",
              "[8 rows x 10 columns]"
            ]
          },
          "metadata": {
            "tags": []
          },
          "execution_count": 11
        }
      ]
    },
    {
      "cell_type": "markdown",
      "metadata": {
        "id": "czOr7fhmCUFT"
      },
      "source": [
        "## Q3. Percentage of missing values in the dataset"
      ]
    },
    {
      "cell_type": "code",
      "metadata": {
        "colab": {
          "base_uri": "https://localhost:8080/"
        },
        "id": "DWmJ1ORtebvS",
        "outputId": "8723fc3d-83e6-4d34-944c-e8a7d95da42f"
      },
      "source": [
        "(df3.isnull().sum() / df.shape[0]).sort_values(ascending = False)"
      ],
      "execution_count": null,
      "outputs": [
        {
          "output_type": "execute_result",
          "data": {
            "text/plain": [
              "reviews_per_month                 0.219801\n",
              "last_review                       0.219801\n",
              "name                              0.000581\n",
              "host_name                         0.000218\n",
              "availability_365                  0.000000\n",
              "calculated_host_listings_count    0.000000\n",
              "number_of_reviews                 0.000000\n",
              "minimum_nights                    0.000000\n",
              "price                             0.000000\n",
              "room_type                         0.000000\n",
              "longitude                         0.000000\n",
              "latitude                          0.000000\n",
              "neighborhood                      0.000000\n",
              "host_id                           0.000000\n",
              "id                                0.000000\n",
              "dtype: float64"
            ]
          },
          "metadata": {
            "tags": []
          },
          "execution_count": 12
        }
      ]
    },
    {
      "cell_type": "markdown",
      "metadata": {
        "id": "JW72XUHrQrkg"
      },
      "source": [
        "The quality of a dataset is directly related to the amount of missing values. It is important to understand early on whether these null values are significant compared to the total entries.\r\n",
        "\r\n",
        "* The `reviews_per_month` and` last_review` variables have null values in almost half of the lines.\r\n",
        "* The `name` and` host_name` variables have approximately 0.1% of the null values. "
      ]
    },
    {
      "cell_type": "markdown",
      "metadata": {
        "id": "_Xl1jFiMf_v6"
      },
      "source": [
        "### **Dealing with missing values**"
      ]
    },
    {
      "cell_type": "code",
      "metadata": {
        "colab": {
          "base_uri": "https://localhost:8080/"
        },
        "id": "QzY__CgfYC9X",
        "outputId": "23f2a5c8-74e9-4515-907d-a804d629d084"
      },
      "source": [
        "nulos1 = df3[df3['reviews_per_month'].isnull()]\r\n",
        "nulos2 = df3[df3['last_review'].isnull()]\r\n",
        "print(nulos1.shape)\r\n",
        "print('\\t')\r\n",
        "print(nulos2.shape)\r\n",
        "print('\\t')\r\n",
        "nulos1.head()"
      ],
      "execution_count": null,
      "outputs": [
        {
          "output_type": "stream",
          "text": [
            "(3026, 15)\n",
            "\t\n",
            "(3026, 15)\n",
            "\t\n"
          ],
          "name": "stdout"
        },
        {
          "output_type": "execute_result",
          "data": {
            "text/html": [
              "<div>\n",
              "<style scoped>\n",
              "    .dataframe tbody tr th:only-of-type {\n",
              "        vertical-align: middle;\n",
              "    }\n",
              "\n",
              "    .dataframe tbody tr th {\n",
              "        vertical-align: top;\n",
              "    }\n",
              "\n",
              "    .dataframe thead th {\n",
              "        text-align: right;\n",
              "    }\n",
              "</style>\n",
              "<table border=\"1\" class=\"dataframe\">\n",
              "  <thead>\n",
              "    <tr style=\"text-align: right;\">\n",
              "      <th></th>\n",
              "      <th>id</th>\n",
              "      <th>name</th>\n",
              "      <th>host_id</th>\n",
              "      <th>host_name</th>\n",
              "      <th>neighborhood</th>\n",
              "      <th>latitude</th>\n",
              "      <th>longitude</th>\n",
              "      <th>room_type</th>\n",
              "      <th>price</th>\n",
              "      <th>minimum_nights</th>\n",
              "      <th>number_of_reviews</th>\n",
              "      <th>last_review</th>\n",
              "      <th>reviews_per_month</th>\n",
              "      <th>calculated_host_listings_count</th>\n",
              "      <th>availability_365</th>\n",
              "    </tr>\n",
              "  </thead>\n",
              "  <tbody>\n",
              "    <tr>\n",
              "      <th>13</th>\n",
              "      <td>67514</td>\n",
              "      <td>Double Bed in Room with Skylight</td>\n",
              "      <td>333083</td>\n",
              "      <td>Dan</td>\n",
              "      <td>Montréal-Ouest</td>\n",
              "      <td>45.45372</td>\n",
              "      <td>-73.65060</td>\n",
              "      <td>Private room</td>\n",
              "      <td>150</td>\n",
              "      <td>3</td>\n",
              "      <td>0</td>\n",
              "      <td>NaN</td>\n",
              "      <td>NaN</td>\n",
              "      <td>1</td>\n",
              "      <td>0</td>\n",
              "    </tr>\n",
              "    <tr>\n",
              "      <th>43</th>\n",
              "      <td>182142</td>\n",
              "      <td>6 1/2- COSY - GARDEN &amp; ELECTRIC CAR</td>\n",
              "      <td>818883</td>\n",
              "      <td>Lapelemo</td>\n",
              "      <td>Côte-des-Neiges-Notre-Dame-de-Grâce</td>\n",
              "      <td>45.49329</td>\n",
              "      <td>-73.62615</td>\n",
              "      <td>Entire home/apt</td>\n",
              "      <td>230</td>\n",
              "      <td>31</td>\n",
              "      <td>0</td>\n",
              "      <td>NaN</td>\n",
              "      <td>NaN</td>\n",
              "      <td>3</td>\n",
              "      <td>364</td>\n",
              "    </tr>\n",
              "    <tr>\n",
              "      <th>46</th>\n",
              "      <td>190961</td>\n",
              "      <td>De l'Eglise metro station</td>\n",
              "      <td>923876</td>\n",
              "      <td>Farhad</td>\n",
              "      <td>Verdun</td>\n",
              "      <td>45.45920</td>\n",
              "      <td>-73.56547</td>\n",
              "      <td>Private room</td>\n",
              "      <td>38</td>\n",
              "      <td>1</td>\n",
              "      <td>0</td>\n",
              "      <td>NaN</td>\n",
              "      <td>NaN</td>\n",
              "      <td>1</td>\n",
              "      <td>365</td>\n",
              "    </tr>\n",
              "    <tr>\n",
              "      <th>49</th>\n",
              "      <td>200322</td>\n",
              "      <td>Big double room</td>\n",
              "      <td>163569</td>\n",
              "      <td>M.</td>\n",
              "      <td>Ville-Marie</td>\n",
              "      <td>45.52732</td>\n",
              "      <td>-73.55633</td>\n",
              "      <td>Private room</td>\n",
              "      <td>102</td>\n",
              "      <td>10</td>\n",
              "      <td>0</td>\n",
              "      <td>NaN</td>\n",
              "      <td>NaN</td>\n",
              "      <td>2</td>\n",
              "      <td>365</td>\n",
              "    </tr>\n",
              "    <tr>\n",
              "      <th>100</th>\n",
              "      <td>411826</td>\n",
              "      <td>Two story condo in the Plateau</td>\n",
              "      <td>2049921</td>\n",
              "      <td>Vlad</td>\n",
              "      <td>Le Plateau-Mont-Royal</td>\n",
              "      <td>45.53484</td>\n",
              "      <td>-73.58410</td>\n",
              "      <td>Entire home/apt</td>\n",
              "      <td>140</td>\n",
              "      <td>2</td>\n",
              "      <td>0</td>\n",
              "      <td>NaN</td>\n",
              "      <td>NaN</td>\n",
              "      <td>1</td>\n",
              "      <td>0</td>\n",
              "    </tr>\n",
              "  </tbody>\n",
              "</table>\n",
              "</div>"
            ],
            "text/plain": [
              "         id  ... availability_365\n",
              "13    67514  ...                0\n",
              "43   182142  ...              364\n",
              "46   190961  ...              365\n",
              "49   200322  ...              365\n",
              "100  411826  ...                0\n",
              "\n",
              "[5 rows x 15 columns]"
            ]
          },
          "metadata": {
            "tags": []
          },
          "execution_count": 13
        }
      ]
    },
    {
      "cell_type": "markdown",
      "metadata": {
        "id": "qBwXr529Zo3T"
      },
      "source": [
        "#### **Observations**\r\n",
        "* Both the columns, 'last_review' and 'reviews_per_month', have missing values due to the column 'number_of_reviews'.\r\n",
        "* If the the column 'number_of_reviews' == 0, so it means that no one send any reviews, then the columns, 'last_review' and 'reviews_per_month', will be = NaN."
      ]
    },
    {
      "cell_type": "code",
      "metadata": {
        "colab": {
          "base_uri": "https://localhost:8080/"
        },
        "id": "sJ5Ah0RxbjQ9",
        "outputId": "fe52cdeb-f5cb-48cb-e506-32b3ed0fa83c"
      },
      "source": [
        "# Due to the observations, I will replace the NaN values with zero.\r\n",
        "# Both columns will be replaced\r\n",
        "\r\n",
        "# the column 'reviews_per_month' is a float\r\n",
        "df3['reviews_per_month'].fillna('0', inplace = True)\r\n",
        "df3 = df3.astype({'reviews_per_month': float})\r\n",
        "# the column 'last_review' is a date\r\n",
        "df3['last_review'].fillna('No review yet', inplace = True)\r\n",
        "\r\n",
        "df3.info()"
      ],
      "execution_count": null,
      "outputs": [
        {
          "output_type": "stream",
          "text": [
            "<class 'pandas.core.frame.DataFrame'>\n",
            "Int64Index: 13274 entries, 0 to 13766\n",
            "Data columns (total 15 columns):\n",
            " #   Column                          Non-Null Count  Dtype  \n",
            "---  ------                          --------------  -----  \n",
            " 0   id                              13274 non-null  int64  \n",
            " 1   name                            13266 non-null  object \n",
            " 2   host_id                         13274 non-null  int64  \n",
            " 3   host_name                       13271 non-null  object \n",
            " 4   neighborhood                    13274 non-null  object \n",
            " 5   latitude                        13274 non-null  float64\n",
            " 6   longitude                       13274 non-null  float64\n",
            " 7   room_type                       13274 non-null  object \n",
            " 8   price                           13274 non-null  int64  \n",
            " 9   minimum_nights                  13274 non-null  int64  \n",
            " 10  number_of_reviews               13274 non-null  int64  \n",
            " 11  last_review                     13274 non-null  object \n",
            " 12  reviews_per_month               13274 non-null  float64\n",
            " 13  calculated_host_listings_count  13274 non-null  int64  \n",
            " 14  availability_365                13274 non-null  int64  \n",
            "dtypes: float64(3), int64(7), object(5)\n",
            "memory usage: 1.6+ MB\n"
          ],
          "name": "stdout"
        }
      ]
    },
    {
      "cell_type": "code",
      "metadata": {
        "colab": {
          "base_uri": "https://localhost:8080/"
        },
        "id": "LbK6-gkRcswr",
        "outputId": "d1ec4c0f-c0b1-4041-b024-b777889e47d1"
      },
      "source": [
        "print(df3['reviews_per_month'].value_counts())\r\n",
        "print(df3['last_review'].value_counts())"
      ],
      "execution_count": null,
      "outputs": [
        {
          "output_type": "stream",
          "text": [
            "0.00    3026\n",
            "0.07     279\n",
            "0.06     277\n",
            "0.02     275\n",
            "0.03     241\n",
            "        ... \n",
            "3.37       1\n",
            "5.61       1\n",
            "6.61       1\n",
            "4.40       1\n",
            "3.97       1\n",
            "Name: reviews_per_month, Length: 622, dtype: int64\n",
            "No review yet    3026\n",
            "2020-09-07        109\n",
            "2020-11-29        101\n",
            "2020-11-30         94\n",
            "2020-02-17         82\n",
            "                 ... \n",
            "2015-03-18          1\n",
            "2018-02-07          1\n",
            "2020-07-14          1\n",
            "2017-03-31          1\n",
            "2019-04-26          1\n",
            "Name: last_review, Length: 1429, dtype: int64\n"
          ],
          "name": "stdout"
        }
      ]
    },
    {
      "cell_type": "markdown",
      "metadata": {
        "id": "JSSBZMPMx8Dn"
      },
      "source": [
        "## Q4. The importance of each neighbordhood"
      ]
    },
    {
      "cell_type": "markdown",
      "metadata": {
        "id": "P5UGK6btur3n"
      },
      "source": [
        "### Analyzing the column 'neighborhood'\r\n",
        "* According the df.describe(), I noticed that there is a disproportion and this can hinder the analysis\r\n",
        "* This can occur due to many reasons and it reflect where the people want to move to and the size of the neighborhood in matter of structure,development and people.\r\n",
        "* This not means that the top 1 neighborhood is the best, but it means that it's a important and a big neighborhood."
      ]
    },
    {
      "cell_type": "code",
      "metadata": {
        "colab": {
          "base_uri": "https://localhost:8080/"
        },
        "id": "LX0mDSwxuXHb",
        "outputId": "aa001b2f-a590-4375-de97-e4bc9d3ccbb0"
      },
      "source": [
        "print(df3['neighborhood'].describe())\r\n",
        "print('\\t')\r\n",
        "print(df3['neighborhood'].value_counts(dropna = False))"
      ],
      "execution_count": null,
      "outputs": [
        {
          "output_type": "stream",
          "text": [
            "count           13274\n",
            "unique             33\n",
            "top       Ville-Marie\n",
            "freq             3682\n",
            "Name: neighborhood, dtype: object\n",
            "\t\n",
            "Ville-Marie                                 3682\n",
            "Le Plateau-Mont-Royal                       3411\n",
            "Rosemont-La Petite-Patrie                   1261\n",
            "Côte-des-Neiges-Notre-Dame-de-Grâce          997\n",
            "Le Sud-Ouest                                 875\n",
            "Mercier-Hochelaga-Maisonneuve                691\n",
            "Villeray-Saint-Michel-Parc-Extension         677\n",
            "Verdun                                       311\n",
            "Ahuntsic-Cartierville                        254\n",
            "Outremont                                    151\n",
            "Saint-Laurent                                150\n",
            "LaSalle                                      116\n",
            "Westmount                                     85\n",
            "Lachine                                       78\n",
            "Montréal-Nord                                 62\n",
            "Saint-Léonard                                 61\n",
            "Rivière-des-Prairies-Pointe-aux-Trembles      61\n",
            "Anjou                                         48\n",
            "Pointe-Claire                                 44\n",
            "Pierrefonds-Roxboro                           43\n",
            "Côte-Saint-Luc                                41\n",
            "Dorval                                        36\n",
            "Mont-Royal                                    36\n",
            "Dollard-des-Ormeaux                           35\n",
            "L'Île-Bizard-Sainte-Geneviève                 17\n",
            "Beaconsfield                                  15\n",
            "Montréal-Ouest                                12\n",
            "Hampstead                                      7\n",
            "Kirkland                                       6\n",
            "Sainte-Anne-de-Bellevue                        4\n",
            "Montréal-Est                                   3\n",
            "Baie-d'Urfé                                    2\n",
            "Senneville                                     2\n",
            "Name: neighborhood, dtype: int64\n"
          ],
          "name": "stdout"
        }
      ]
    },
    {
      "cell_type": "code",
      "metadata": {
        "colab": {
          "base_uri": "https://localhost:8080/"
        },
        "id": "Yuu9OH7tC3-x",
        "outputId": "60560e86-87a6-4b46-e90c-bebed63d29c3"
      },
      "source": [
        "top_10_nbh = df3['neighborhood'].value_counts().head(10)\r\n",
        "top_5_nbh = df3['neighborhood'].value_counts().head(5)\r\n",
        "print('Percentage top 10 neighborhood : {}'.format((top_10_nbh / df3.shape[0]).sum()))\r\n",
        "print('Percentage top 5 neighborhood : {}'.format((top_5_nbh / df3.shape[0]).sum()))\r\n",
        "print('\\t')\r\n",
        "print(top_10_nbh)"
      ],
      "execution_count": null,
      "outputs": [
        {
          "output_type": "stream",
          "text": [
            "Percentage top 10 neighborhood : 0.9273768268796143\n",
            "Percentage top 5 neighborhood : 0.7703781829139672\n",
            "\t\n",
            "Ville-Marie                             3682\n",
            "Le Plateau-Mont-Royal                   3411\n",
            "Rosemont-La Petite-Patrie               1261\n",
            "Côte-des-Neiges-Notre-Dame-de-Grâce      997\n",
            "Le Sud-Ouest                             875\n",
            "Mercier-Hochelaga-Maisonneuve            691\n",
            "Villeray-Saint-Michel-Parc-Extension     677\n",
            "Verdun                                   311\n",
            "Ahuntsic-Cartierville                    254\n",
            "Outremont                                151\n",
            "Name: neighborhood, dtype: int64\n"
          ],
          "name": "stdout"
        }
      ]
    },
    {
      "cell_type": "markdown",
      "metadata": {
        "id": "IjQp85n-yZPs"
      },
      "source": [
        "#### **Observations**\r\n",
        "* After this analysis, I will work with the top 5 and top 10.\r\n",
        "* The disproportion of the neighborhoods is too big and it hinder the analysis.\r\n",
        "* There 33 neighborhood and the top 10 represents almost 93% of all the data set and the top 5 represents 77% of all the data set."
      ]
    },
    {
      "cell_type": "code",
      "metadata": {
        "colab": {
          "base_uri": "https://localhost:8080/",
          "height": 319
        },
        "id": "WvR869TVzESk",
        "outputId": "8100fd7d-1546-431e-e1da-7612347195a1"
      },
      "source": [
        "# I will create two new DataFrames\r\n",
        "# The first will be with the top 10 neighborhood\r\n",
        "top5 = ['Ville-Marie', 'Le Plateau-Mont-Royal', 'Le Sud-Ouest','Rosemont-La Petite-Patrie', 'Côte-des-Neiges-Notre-Dame-de-Grâce']\r\n",
        "# The second will be with the top 5 neighborhood\r\n",
        "top10 = ['Ville-Marie', 'Le Plateau-Mont-Royal', 'Rosemont-La Petite-Patrie', 'Outremont',\r\n",
        "'Côte-des-Neiges-Notre-Dame-de-Grâce', 'Le Sud-Ouest', 'Mercier-Hochelaga-Maisonneuve',\r\n",
        "'Villeray-Saint-Michel-Parc-Extension', 'Verdun', 'Ahuntsic-Cartierville']     \r\n",
        "\r\n",
        "df_top5 = df3[df3['neighborhood'].isin(top5)]\r\n",
        "display(df_top5['neighborhood'].value_counts())\r\n",
        "print('\\t')\r\n",
        "df_top10 = df3[df3['neighborhood'].isin(top10)]\r\n",
        "display(df_top10['neighborhood'].value_counts())"
      ],
      "execution_count": null,
      "outputs": [
        {
          "output_type": "display_data",
          "data": {
            "text/plain": [
              "Ville-Marie                            3682\n",
              "Le Plateau-Mont-Royal                  3411\n",
              "Rosemont-La Petite-Patrie              1261\n",
              "Côte-des-Neiges-Notre-Dame-de-Grâce     997\n",
              "Le Sud-Ouest                            875\n",
              "Name: neighborhood, dtype: int64"
            ]
          },
          "metadata": {
            "tags": []
          }
        },
        {
          "output_type": "stream",
          "text": [
            "\t\n"
          ],
          "name": "stdout"
        },
        {
          "output_type": "display_data",
          "data": {
            "text/plain": [
              "Ville-Marie                             3682\n",
              "Le Plateau-Mont-Royal                   3411\n",
              "Rosemont-La Petite-Patrie               1261\n",
              "Côte-des-Neiges-Notre-Dame-de-Grâce      997\n",
              "Le Sud-Ouest                             875\n",
              "Mercier-Hochelaga-Maisonneuve            691\n",
              "Villeray-Saint-Michel-Parc-Extension     677\n",
              "Verdun                                   311\n",
              "Ahuntsic-Cartierville                    254\n",
              "Outremont                                151\n",
              "Name: neighborhood, dtype: int64"
            ]
          },
          "metadata": {
            "tags": []
          }
        }
      ]
    },
    {
      "cell_type": "markdown",
      "metadata": {
        "id": "OvI-vw8SqNRR"
      },
      "source": [
        "#### Checking\r\n",
        "* Checking if everything is ok with both dataframes\r\n",
        "* I separated in two dataframes two see if there are some differences in the analysis"
      ]
    },
    {
      "cell_type": "code",
      "metadata": {
        "colab": {
          "base_uri": "https://localhost:8080/",
          "height": 477
        },
        "id": "LMylvmmd9dFY",
        "outputId": "54589cb1-6b7f-4921-ec93-c347b7d70c70"
      },
      "source": [
        "df_top10.describe(include = 'all')"
      ],
      "execution_count": null,
      "outputs": [
        {
          "output_type": "execute_result",
          "data": {
            "text/html": [
              "<div>\n",
              "<style scoped>\n",
              "    .dataframe tbody tr th:only-of-type {\n",
              "        vertical-align: middle;\n",
              "    }\n",
              "\n",
              "    .dataframe tbody tr th {\n",
              "        vertical-align: top;\n",
              "    }\n",
              "\n",
              "    .dataframe thead th {\n",
              "        text-align: right;\n",
              "    }\n",
              "</style>\n",
              "<table border=\"1\" class=\"dataframe\">\n",
              "  <thead>\n",
              "    <tr style=\"text-align: right;\">\n",
              "      <th></th>\n",
              "      <th>id</th>\n",
              "      <th>name</th>\n",
              "      <th>host_id</th>\n",
              "      <th>host_name</th>\n",
              "      <th>neighborhood</th>\n",
              "      <th>latitude</th>\n",
              "      <th>longitude</th>\n",
              "      <th>room_type</th>\n",
              "      <th>price</th>\n",
              "      <th>minimum_nights</th>\n",
              "      <th>number_of_reviews</th>\n",
              "      <th>last_review</th>\n",
              "      <th>reviews_per_month</th>\n",
              "      <th>calculated_host_listings_count</th>\n",
              "      <th>availability_365</th>\n",
              "    </tr>\n",
              "  </thead>\n",
              "  <tbody>\n",
              "    <tr>\n",
              "      <th>count</th>\n",
              "      <td>1.231000e+04</td>\n",
              "      <td>12304</td>\n",
              "      <td>1.231000e+04</td>\n",
              "      <td>12307</td>\n",
              "      <td>12310</td>\n",
              "      <td>12310.000000</td>\n",
              "      <td>12310.000000</td>\n",
              "      <td>12310</td>\n",
              "      <td>12310.000000</td>\n",
              "      <td>12310.000000</td>\n",
              "      <td>12310.000000</td>\n",
              "      <td>12310</td>\n",
              "      <td>12310.000000</td>\n",
              "      <td>12310.000000</td>\n",
              "      <td>12310.000000</td>\n",
              "    </tr>\n",
              "    <tr>\n",
              "      <th>unique</th>\n",
              "      <td>NaN</td>\n",
              "      <td>11965</td>\n",
              "      <td>NaN</td>\n",
              "      <td>3585</td>\n",
              "      <td>10</td>\n",
              "      <td>NaN</td>\n",
              "      <td>NaN</td>\n",
              "      <td>4</td>\n",
              "      <td>NaN</td>\n",
              "      <td>NaN</td>\n",
              "      <td>NaN</td>\n",
              "      <td>1408</td>\n",
              "      <td>NaN</td>\n",
              "      <td>NaN</td>\n",
              "      <td>NaN</td>\n",
              "    </tr>\n",
              "    <tr>\n",
              "      <th>top</th>\n",
              "      <td>NaN</td>\n",
              "      <td>Downtown Montreal Fully furnished apartment WIFI</td>\n",
              "      <td>NaN</td>\n",
              "      <td>Corporate Stays</td>\n",
              "      <td>Ville-Marie</td>\n",
              "      <td>NaN</td>\n",
              "      <td>NaN</td>\n",
              "      <td>Entire home/apt</td>\n",
              "      <td>NaN</td>\n",
              "      <td>NaN</td>\n",
              "      <td>NaN</td>\n",
              "      <td>No review yet</td>\n",
              "      <td>NaN</td>\n",
              "      <td>NaN</td>\n",
              "      <td>NaN</td>\n",
              "    </tr>\n",
              "    <tr>\n",
              "      <th>freq</th>\n",
              "      <td>NaN</td>\n",
              "      <td>67</td>\n",
              "      <td>NaN</td>\n",
              "      <td>110</td>\n",
              "      <td>3682</td>\n",
              "      <td>NaN</td>\n",
              "      <td>NaN</td>\n",
              "      <td>8757</td>\n",
              "      <td>NaN</td>\n",
              "      <td>NaN</td>\n",
              "      <td>NaN</td>\n",
              "      <td>2784</td>\n",
              "      <td>NaN</td>\n",
              "      <td>NaN</td>\n",
              "      <td>NaN</td>\n",
              "    </tr>\n",
              "    <tr>\n",
              "      <th>mean</th>\n",
              "      <td>2.767508e+07</td>\n",
              "      <td>NaN</td>\n",
              "      <td>1.035349e+08</td>\n",
              "      <td>NaN</td>\n",
              "      <td>NaN</td>\n",
              "      <td>45.516396</td>\n",
              "      <td>-73.582686</td>\n",
              "      <td>NaN</td>\n",
              "      <td>95.063607</td>\n",
              "      <td>9.319009</td>\n",
              "      <td>21.429569</td>\n",
              "      <td>NaN</td>\n",
              "      <td>0.695405</td>\n",
              "      <td>7.439805</td>\n",
              "      <td>125.392526</td>\n",
              "    </tr>\n",
              "    <tr>\n",
              "      <th>std</th>\n",
              "      <td>1.310589e+07</td>\n",
              "      <td>NaN</td>\n",
              "      <td>1.057820e+08</td>\n",
              "      <td>NaN</td>\n",
              "      <td>NaN</td>\n",
              "      <td>0.026646</td>\n",
              "      <td>0.026499</td>\n",
              "      <td>NaN</td>\n",
              "      <td>72.630136</td>\n",
              "      <td>14.731613</td>\n",
              "      <td>46.509223</td>\n",
              "      <td>NaN</td>\n",
              "      <td>1.174049</td>\n",
              "      <td>16.432663</td>\n",
              "      <td>140.540433</td>\n",
              "    </tr>\n",
              "    <tr>\n",
              "      <th>min</th>\n",
              "      <td>2.078000e+03</td>\n",
              "      <td>NaN</td>\n",
              "      <td>1.671000e+03</td>\n",
              "      <td>NaN</td>\n",
              "      <td>NaN</td>\n",
              "      <td>45.436840</td>\n",
              "      <td>-73.729610</td>\n",
              "      <td>NaN</td>\n",
              "      <td>0.000000</td>\n",
              "      <td>1.000000</td>\n",
              "      <td>0.000000</td>\n",
              "      <td>NaN</td>\n",
              "      <td>0.000000</td>\n",
              "      <td>1.000000</td>\n",
              "      <td>0.000000</td>\n",
              "    </tr>\n",
              "    <tr>\n",
              "      <th>25%</th>\n",
              "      <td>1.823972e+07</td>\n",
              "      <td>NaN</td>\n",
              "      <td>1.615839e+07</td>\n",
              "      <td>NaN</td>\n",
              "      <td>NaN</td>\n",
              "      <td>45.497583</td>\n",
              "      <td>-73.596865</td>\n",
              "      <td>NaN</td>\n",
              "      <td>48.000000</td>\n",
              "      <td>1.000000</td>\n",
              "      <td>1.000000</td>\n",
              "      <td>NaN</td>\n",
              "      <td>0.030000</td>\n",
              "      <td>1.000000</td>\n",
              "      <td>0.000000</td>\n",
              "    </tr>\n",
              "    <tr>\n",
              "      <th>50%</th>\n",
              "      <td>2.755957e+07</td>\n",
              "      <td>NaN</td>\n",
              "      <td>6.396418e+07</td>\n",
              "      <td>NaN</td>\n",
              "      <td>NaN</td>\n",
              "      <td>45.518915</td>\n",
              "      <td>-73.577980</td>\n",
              "      <td>NaN</td>\n",
              "      <td>77.000000</td>\n",
              "      <td>2.000000</td>\n",
              "      <td>4.000000</td>\n",
              "      <td>NaN</td>\n",
              "      <td>0.210000</td>\n",
              "      <td>1.000000</td>\n",
              "      <td>77.000000</td>\n",
              "    </tr>\n",
              "    <tr>\n",
              "      <th>75%</th>\n",
              "      <td>3.967580e+07</td>\n",
              "      <td>NaN</td>\n",
              "      <td>1.672682e+08</td>\n",
              "      <td>NaN</td>\n",
              "      <td>NaN</td>\n",
              "      <td>45.533620</td>\n",
              "      <td>-73.565190</td>\n",
              "      <td>NaN</td>\n",
              "      <td>118.000000</td>\n",
              "      <td>7.000000</td>\n",
              "      <td>19.000000</td>\n",
              "      <td>NaN</td>\n",
              "      <td>0.830000</td>\n",
              "      <td>4.000000</td>\n",
              "      <td>257.000000</td>\n",
              "    </tr>\n",
              "    <tr>\n",
              "      <th>max</th>\n",
              "      <td>4.711247e+07</td>\n",
              "      <td>NaN</td>\n",
              "      <td>3.805089e+08</td>\n",
              "      <td>NaN</td>\n",
              "      <td>NaN</td>\n",
              "      <td>45.614610</td>\n",
              "      <td>-73.507840</td>\n",
              "      <td>NaN</td>\n",
              "      <td>500.000000</td>\n",
              "      <td>90.000000</td>\n",
              "      <td>638.000000</td>\n",
              "      <td>NaN</td>\n",
              "      <td>15.330000</td>\n",
              "      <td>110.000000</td>\n",
              "      <td>365.000000</td>\n",
              "    </tr>\n",
              "  </tbody>\n",
              "</table>\n",
              "</div>"
            ],
            "text/plain": [
              "                  id  ... availability_365\n",
              "count   1.231000e+04  ...     12310.000000\n",
              "unique           NaN  ...              NaN\n",
              "top              NaN  ...              NaN\n",
              "freq             NaN  ...              NaN\n",
              "mean    2.767508e+07  ...       125.392526\n",
              "std     1.310589e+07  ...       140.540433\n",
              "min     2.078000e+03  ...         0.000000\n",
              "25%     1.823972e+07  ...         0.000000\n",
              "50%     2.755957e+07  ...        77.000000\n",
              "75%     3.967580e+07  ...       257.000000\n",
              "max     4.711247e+07  ...       365.000000\n",
              "\n",
              "[11 rows x 15 columns]"
            ]
          },
          "metadata": {
            "tags": []
          },
          "execution_count": 105
        }
      ]
    },
    {
      "cell_type": "code",
      "metadata": {
        "colab": {
          "base_uri": "https://localhost:8080/",
          "height": 477
        },
        "id": "lSPbMWaeluH5",
        "outputId": "71558d4c-6072-4f86-9637-0b5a1cc9eb84"
      },
      "source": [
        "df_top5.describe(include = 'all')"
      ],
      "execution_count": null,
      "outputs": [
        {
          "output_type": "execute_result",
          "data": {
            "text/html": [
              "<div>\n",
              "<style scoped>\n",
              "    .dataframe tbody tr th:only-of-type {\n",
              "        vertical-align: middle;\n",
              "    }\n",
              "\n",
              "    .dataframe tbody tr th {\n",
              "        vertical-align: top;\n",
              "    }\n",
              "\n",
              "    .dataframe thead th {\n",
              "        text-align: right;\n",
              "    }\n",
              "</style>\n",
              "<table border=\"1\" class=\"dataframe\">\n",
              "  <thead>\n",
              "    <tr style=\"text-align: right;\">\n",
              "      <th></th>\n",
              "      <th>id</th>\n",
              "      <th>name</th>\n",
              "      <th>host_id</th>\n",
              "      <th>host_name</th>\n",
              "      <th>neighborhood</th>\n",
              "      <th>latitude</th>\n",
              "      <th>longitude</th>\n",
              "      <th>room_type</th>\n",
              "      <th>price</th>\n",
              "      <th>minimum_nights</th>\n",
              "      <th>number_of_reviews</th>\n",
              "      <th>last_review</th>\n",
              "      <th>reviews_per_month</th>\n",
              "      <th>calculated_host_listings_count</th>\n",
              "      <th>availability_365</th>\n",
              "    </tr>\n",
              "  </thead>\n",
              "  <tbody>\n",
              "    <tr>\n",
              "      <th>count</th>\n",
              "      <td>1.022600e+04</td>\n",
              "      <td>10221</td>\n",
              "      <td>1.022600e+04</td>\n",
              "      <td>10224</td>\n",
              "      <td>10226</td>\n",
              "      <td>10226.000000</td>\n",
              "      <td>10226.000000</td>\n",
              "      <td>10226</td>\n",
              "      <td>10226.000000</td>\n",
              "      <td>10226.000000</td>\n",
              "      <td>10226.000000</td>\n",
              "      <td>10226</td>\n",
              "      <td>10226.000000</td>\n",
              "      <td>10226.000000</td>\n",
              "      <td>10226.000000</td>\n",
              "    </tr>\n",
              "    <tr>\n",
              "      <th>unique</th>\n",
              "      <td>NaN</td>\n",
              "      <td>9930</td>\n",
              "      <td>NaN</td>\n",
              "      <td>3069</td>\n",
              "      <td>5</td>\n",
              "      <td>NaN</td>\n",
              "      <td>NaN</td>\n",
              "      <td>4</td>\n",
              "      <td>NaN</td>\n",
              "      <td>NaN</td>\n",
              "      <td>NaN</td>\n",
              "      <td>1324</td>\n",
              "      <td>NaN</td>\n",
              "      <td>NaN</td>\n",
              "      <td>NaN</td>\n",
              "    </tr>\n",
              "    <tr>\n",
              "      <th>top</th>\n",
              "      <td>NaN</td>\n",
              "      <td>Downtown Montreal Fully furnished apartment WIFI</td>\n",
              "      <td>NaN</td>\n",
              "      <td>Corporate Stays</td>\n",
              "      <td>Ville-Marie</td>\n",
              "      <td>NaN</td>\n",
              "      <td>NaN</td>\n",
              "      <td>Entire home/apt</td>\n",
              "      <td>NaN</td>\n",
              "      <td>NaN</td>\n",
              "      <td>NaN</td>\n",
              "      <td>No review yet</td>\n",
              "      <td>NaN</td>\n",
              "      <td>NaN</td>\n",
              "      <td>NaN</td>\n",
              "    </tr>\n",
              "    <tr>\n",
              "      <th>freq</th>\n",
              "      <td>NaN</td>\n",
              "      <td>67</td>\n",
              "      <td>NaN</td>\n",
              "      <td>110</td>\n",
              "      <td>3682</td>\n",
              "      <td>NaN</td>\n",
              "      <td>NaN</td>\n",
              "      <td>7351</td>\n",
              "      <td>NaN</td>\n",
              "      <td>NaN</td>\n",
              "      <td>NaN</td>\n",
              "      <td>2332</td>\n",
              "      <td>NaN</td>\n",
              "      <td>NaN</td>\n",
              "      <td>NaN</td>\n",
              "    </tr>\n",
              "    <tr>\n",
              "      <th>mean</th>\n",
              "      <td>2.782681e+07</td>\n",
              "      <td>NaN</td>\n",
              "      <td>1.056470e+08</td>\n",
              "      <td>NaN</td>\n",
              "      <td>NaN</td>\n",
              "      <td>45.512399</td>\n",
              "      <td>-73.581198</td>\n",
              "      <td>NaN</td>\n",
              "      <td>97.939664</td>\n",
              "      <td>9.412478</td>\n",
              "      <td>22.510561</td>\n",
              "      <td>NaN</td>\n",
              "      <td>0.726783</td>\n",
              "      <td>8.425288</td>\n",
              "      <td>126.923235</td>\n",
              "    </tr>\n",
              "    <tr>\n",
              "      <th>std</th>\n",
              "      <td>1.326805e+07</td>\n",
              "      <td>NaN</td>\n",
              "      <td>1.079887e+08</td>\n",
              "      <td>NaN</td>\n",
              "      <td>NaN</td>\n",
              "      <td>0.021964</td>\n",
              "      <td>0.020443</td>\n",
              "      <td>NaN</td>\n",
              "      <td>74.067740</td>\n",
              "      <td>14.889895</td>\n",
              "      <td>48.859687</td>\n",
              "      <td>NaN</td>\n",
              "      <td>1.218869</td>\n",
              "      <td>17.664711</td>\n",
              "      <td>140.658756</td>\n",
              "    </tr>\n",
              "    <tr>\n",
              "      <th>min</th>\n",
              "      <td>2.078000e+03</td>\n",
              "      <td>NaN</td>\n",
              "      <td>1.671000e+03</td>\n",
              "      <td>NaN</td>\n",
              "      <td>NaN</td>\n",
              "      <td>45.438860</td>\n",
              "      <td>-73.661090</td>\n",
              "      <td>NaN</td>\n",
              "      <td>0.000000</td>\n",
              "      <td>1.000000</td>\n",
              "      <td>0.000000</td>\n",
              "      <td>NaN</td>\n",
              "      <td>0.000000</td>\n",
              "      <td>1.000000</td>\n",
              "      <td>0.000000</td>\n",
              "    </tr>\n",
              "    <tr>\n",
              "      <th>25%</th>\n",
              "      <td>1.818251e+07</td>\n",
              "      <td>NaN</td>\n",
              "      <td>1.618776e+07</td>\n",
              "      <td>NaN</td>\n",
              "      <td>NaN</td>\n",
              "      <td>45.496800</td>\n",
              "      <td>-73.590455</td>\n",
              "      <td>NaN</td>\n",
              "      <td>50.000000</td>\n",
              "      <td>1.000000</td>\n",
              "      <td>1.000000</td>\n",
              "      <td>NaN</td>\n",
              "      <td>0.030000</td>\n",
              "      <td>1.000000</td>\n",
              "      <td>0.000000</td>\n",
              "    </tr>\n",
              "    <tr>\n",
              "      <th>50%</th>\n",
              "      <td>2.780031e+07</td>\n",
              "      <td>NaN</td>\n",
              "      <td>6.447804e+07</td>\n",
              "      <td>NaN</td>\n",
              "      <td>NaN</td>\n",
              "      <td>45.515835</td>\n",
              "      <td>-73.577750</td>\n",
              "      <td>NaN</td>\n",
              "      <td>80.000000</td>\n",
              "      <td>2.000000</td>\n",
              "      <td>4.000000</td>\n",
              "      <td>NaN</td>\n",
              "      <td>0.210000</td>\n",
              "      <td>1.000000</td>\n",
              "      <td>79.000000</td>\n",
              "    </tr>\n",
              "    <tr>\n",
              "      <th>75%</th>\n",
              "      <td>4.002421e+07</td>\n",
              "      <td>NaN</td>\n",
              "      <td>1.756797e+08</td>\n",
              "      <td>NaN</td>\n",
              "      <td>NaN</td>\n",
              "      <td>45.528047</td>\n",
              "      <td>-73.566650</td>\n",
              "      <td>NaN</td>\n",
              "      <td>120.000000</td>\n",
              "      <td>7.000000</td>\n",
              "      <td>19.000000</td>\n",
              "      <td>NaN</td>\n",
              "      <td>0.870000</td>\n",
              "      <td>6.000000</td>\n",
              "      <td>259.000000</td>\n",
              "    </tr>\n",
              "    <tr>\n",
              "      <th>max</th>\n",
              "      <td>4.711247e+07</td>\n",
              "      <td>NaN</td>\n",
              "      <td>3.805089e+08</td>\n",
              "      <td>NaN</td>\n",
              "      <td>NaN</td>\n",
              "      <td>45.581520</td>\n",
              "      <td>-73.544570</td>\n",
              "      <td>NaN</td>\n",
              "      <td>500.000000</td>\n",
              "      <td>90.000000</td>\n",
              "      <td>638.000000</td>\n",
              "      <td>NaN</td>\n",
              "      <td>15.330000</td>\n",
              "      <td>110.000000</td>\n",
              "      <td>365.000000</td>\n",
              "    </tr>\n",
              "  </tbody>\n",
              "</table>\n",
              "</div>"
            ],
            "text/plain": [
              "                  id  ... availability_365\n",
              "count   1.022600e+04  ...     10226.000000\n",
              "unique           NaN  ...              NaN\n",
              "top              NaN  ...              NaN\n",
              "freq             NaN  ...              NaN\n",
              "mean    2.782681e+07  ...       126.923235\n",
              "std     1.326805e+07  ...       140.658756\n",
              "min     2.078000e+03  ...         0.000000\n",
              "25%     1.818251e+07  ...         0.000000\n",
              "50%     2.780031e+07  ...        79.000000\n",
              "75%     4.002421e+07  ...       259.000000\n",
              "max     4.711247e+07  ...       365.000000\n",
              "\n",
              "[11 rows x 15 columns]"
            ]
          },
          "metadata": {
            "tags": []
          },
          "execution_count": 106
        }
      ]
    },
    {
      "cell_type": "markdown",
      "metadata": {
        "id": "Qg6wcwX53t5I"
      },
      "source": [
        "## Finish part 1\r\n",
        "* This is the first part of the project.\r\n",
        "* The next part will be a deeper analysis."
      ]
    },
    {
      "cell_type": "code",
      "metadata": {
        "id": "felNehGGy-Lq"
      },
      "source": [
        "df_top10.to_csv(r'Airbnb_top10.csv', index = False)"
      ],
      "execution_count": 157,
      "outputs": []
    },
    {
      "cell_type": "code",
      "metadata": {
        "id": "dZBOJm7v2kyM"
      },
      "source": [
        "df_top5.to_csv(r'Airbnb_top5.csv', index = False)"
      ],
      "execution_count": null,
      "outputs": []
    }
  ]
}